{
  "nbformat": 4,
  "nbformat_minor": 0,
  "metadata": {
    "colab": {
      "name": "classfication 제출",
      "provenance": [],
      "collapsed_sections": []
    },
    "kernelspec": {
      "name": "python3",
      "display_name": "Python 3"
    },
    "language_info": {
      "name": "python"
    },
    "accelerator": "GPU"
  },
  "cells": [
    {
      "cell_type": "code",
      "metadata": {
        "id": "jC-YNRTQreCx",
        "colab": {
          "base_uri": "https://localhost:8080/"
        },
        "outputId": "dc0579b3-926b-4968-94a8-920416236f73"
      },
      "source": [
        "##  drive mount\n",
        "from google.colab import drive\n",
        "drive.mount('/content/drive')"
      ],
      "execution_count": null,
      "outputs": [
        {
          "output_type": "stream",
          "text": [
            "Mounted at /content/drive\n"
          ],
          "name": "stdout"
        }
      ]
    },
    {
      "cell_type": "code",
      "metadata": {
        "id": "TBh-LDadr5LK"
      },
      "source": [
        "## drive excel파일 read\n",
        "import pandas as pd\n",
        "df_origin = pd.read_excel(\"/content/drive/MyDrive/데이터마이닝 공유 폴더/excel/day1_forclassfication.xlsx\")\n",
        "#################################"
      ],
      "execution_count": null,
      "outputs": []
    },
    {
      "cell_type": "code",
      "metadata": {
        "id": "iEUCP6fFr6bs"
      },
      "source": [
        "################\n",
        "\n",
        "## df_origin -> df\n",
        "df=df_origin"
      ],
      "execution_count": null,
      "outputs": []
    },
    {
      "cell_type": "code",
      "metadata": {
        "id": "pBPd-vebr9Yn"
      },
      "source": [
        "df = df[df['next_trending'].notnull()] ## 조회수가 없는 관측치(결측치) 제거"
      ],
      "execution_count": null,
      "outputs": []
    },
    {
      "cell_type": "code",
      "metadata": {
        "colab": {
          "base_uri": "https://localhost:8080/"
        },
        "id": "pRcFwUVoQSy5",
        "outputId": "56f4ce43-7b8b-46e3-ac20-2d60c750700c"
      },
      "source": [
        "df[0:100].isnull().sum() ## 결측치 확인"
      ],
      "execution_count": null,
      "outputs": [
        {
          "output_type": "execute_result",
          "data": {
            "text/plain": [
              "views                  0\n",
              "time_differ            0\n",
              "next_trending          0\n",
              "subscriberNum          0\n",
              "daysfrom_created       0\n",
              "                      ..\n",
              "t_yester_weather_흐림    0\n",
              "y_finedust_나쁨          0\n",
              "y_finedust_매우나쁨        0\n",
              "y_finedust_보통          0\n",
              "y_finedust_좋음          0\n",
              "Length: 103, dtype: int64"
            ]
          },
          "metadata": {
            "tags": []
          },
          "execution_count": 36
        }
      ]
    },
    {
      "cell_type": "code",
      "metadata": {
        "id": "GrPzUgw9Ixs3"
      },
      "source": [
        "### 변수 일부만 선택(분류)\n",
        "df=df[[  \"next_trending\",'views','time_differ','question_mark', 'exclamation_mark','category_id',  'publish_hour', 'publish_day',\n",
        "        'subscriberNum', 'daysfrom_created', 'daysfrom_publish',  't_yester_weather','y_finedust']]\n",
        "       \n",
        "# ### 변수 일부만 선택\n",
        "# df=df[[ 'view_growth', 'views','time_differ', 'question_mark', 'exclamation_mark','category_id','publish_hour', 'publish_day',\n",
        "#        'ratings_disabled', 'subscriberNum', 'daysfrom_created', 'daysfrom_publish', 't_yester_weather','y_finedust']]]\n",
        "\n",
        "\n",
        "      #'view_growth', #,#,#'dailyviews', 'view_growth_ratio',,'first_view',  'publish_weather', 'publish_finedust', \n",
        "\n",
        "\n",
        "\n",
        "## 모델 제외변수\n",
        "#  \n",
        "#        '강수 계속시간(hr)', '10분 최다 강수량(mm)', '1시간 최다강수량(mm)', \n",
        "#        '1시간 최다일사량(MJ/m2)', '합계 일사량(MJ/m2)', '일 최심신적설(cm)', '일 최심적설(cm)',\n",
        "#        '평균 전운량(1/10)', 'publish_date','t_1시간 최다일사량(MJ/m2)', 't_합계 일사량(MJ/m2)', 't_일 최심신적설(cm)',\n",
        "#      't_일 최심적설(cm)', 't_평균 전운량(1/10)',\n",
        "#  't_yester_pm2.5', 't_미세먼지', 't_초미세먼지', 't_평균기온(°C)', 't_강수 계속시간(hr)',\n",
        "#        't_10분 최다 강수량(mm)', 't_1시간 최다강수량(mm)','t_yester_pm10', \n",
        "# 'publish_pm2.5','publish_pm10', \n",
        "# 'created_date', 'Trending_date', '평균기온(°C)','t_일강수량(mm)', '일강수량(mm)','created_year', 'created_month', 'video_order',\n",
        "\n",
        "\n",
        "\n",
        "# ### 전체변수로 모델 구축시\n",
        "# df=df[[ 'views','view_growth', #,#,#'dailyviews', 'view_growth_ratio',,'first_view',\n",
        "#         'Trending_year', 'Trending_month', \n",
        "#        'Trending_date', 'time_differ', \n",
        "#         'video_order', 'question_mark', 'exclamation_mark',\n",
        "#        'category_id', 'publish_year',\n",
        "#        'publish_month', 'publish_date', 'publish_hour', 'publish_day',\n",
        "#        'ratings_disabled', '평균기온(°C)',\n",
        "#        '강수 계속시간(hr)', '10분 최다 강수량(mm)', '1시간 최다강수량(mm)', '일강수량(mm)',\n",
        "#        '1시간 최다일사량(MJ/m2)', '합계 일사량(MJ/m2)', '일 최심신적설(cm)', '일 최심적설(cm)',\n",
        "#        '평균 전운량(1/10)', 'subscriberNum', 'created_year', 'created_month',\n",
        "#        'created_date',  'daysfrom_created', 'daysfrom_publish',\n",
        "#        'publish_pm10',  'publish_weather', 'publish_pm2.5',\n",
        "#        'publish_finedust', 't_yester_pm10', 't_yester_weather',\n",
        "#        't_yester_pm2.5', 't_미세먼지', 't_초미세먼지', 't_평균기온(°C)', 't_강수 계속시간(hr)',\n",
        "#        't_10분 최다 강수량(mm)', 't_1시간 최다강수량(mm)', 't_일강수량(mm)',\n",
        "#        't_1시간 최다일사량(MJ/m2)', 't_합계 일사량(MJ/m2)', 't_일 최심신적설(cm)',\n",
        "#        't_일 최심적설(cm)', 't_평균 전운량(1/10)', 'y_finedust']]"
      ],
      "execution_count": null,
      "outputs": []
    },
    {
      "cell_type": "code",
      "metadata": {
        "id": "nxuZNem5IytO"
      },
      "source": [
        "#########dummy varaibles로 변환\n",
        "\n",
        "\n",
        "df= pd.get_dummies(df, columns=[#'view_growth_ratio','views','dailyviews',       'publish_weather', 'publish_finedust',\n",
        "\n",
        "        'question_mark', 'exclamation_mark',\n",
        "       'category_id',   'publish_hour', 'publish_day',\n",
        "       't_yester_weather', 'y_finedust'\n",
        "       ]) ## category????\n",
        "\n",
        "## 모델 제외변수\n",
        "#'publish_date','Trending_date', 'created_date', 'video_order', 'created_month','created_year', \n",
        "\n",
        "\n",
        "## 전체 변수로 모델 구축시\n",
        "\n",
        "\n",
        "# df= pd.get_dummies(df, columns=[#'view_growth_ratio','views','dailyviews',\n",
        "#        'Trending_year', 'Trending_month', \n",
        "#        'Trending_date', \n",
        "#         'video_order', 'question_mark', 'exclamation_mark',\n",
        "#        'category_id', 'publish_year',\n",
        "#        'publish_month', 'publish_date', 'publish_hour', 'publish_day',\n",
        "#        'ratings_disabled','created_year', 'created_month',\n",
        "#        'created_date', 'publish_weather', \n",
        "#        'publish_finedust',  't_yester_weather', 'y_finedust'\n",
        "#        ]) ## category????\n"
      ],
      "execution_count": null,
      "outputs": []
    },
    {
      "cell_type": "code",
      "metadata": {
        "id": "HwuQFTZQJUEO"
      },
      "source": [
        "### train, test set 분리\n",
        "from sklearn.model_selection import train_test_split\n",
        "x_train, x_test, y_train, y_test = train_test_split(df.drop([\"next_trending\"],axis=1), df[\"next_trending\"],test_size=0.3, random_state=12)"
      ],
      "execution_count": null,
      "outputs": []
    },
    {
      "cell_type": "code",
      "metadata": {
        "colab": {
          "base_uri": "https://localhost:8080/"
        },
        "id": "wp9ALmbrKnD_",
        "outputId": "e9eb734b-ef59-45a8-b25c-222b969d642f"
      },
      "source": [
        "### random forest classifier\n",
        "\n",
        "\n",
        "from sklearn.ensemble import RandomForestClassifier\n",
        "from sklearn.metrics import accuracy_score # 정확도 함수\n",
        "from sklearn.model_selection import train_test_split\n",
        "from sklearn import ensemble\n",
        "from sklearn.metrics import mean_squared_error\n",
        "import pandas as pd\n",
        "from sklearn.ensemble import RandomForestRegressor\n",
        "import tensorflow as tf\n",
        "from sklearn.metrics import f1_score\n",
        "\n",
        "\n",
        "model = RandomForestClassifier(n_estimators=1000,max_features=50, max_depth=10, min_samples_leaf=3)\n",
        "# 변수 전체 모델 학습시 max_features=100, max_depth=1000,  min_samples_split=20\n",
        "\n",
        "\n",
        "##########모델 학습\n",
        "with tf.device('/device:GPU:0'):\n",
        "  model.fit(x_train, y_train)\n",
        "\n",
        "\n",
        "\n",
        "##########모델 검증\n",
        "print(\"train model :\" ,model.score(x_train, y_train)) \n",
        "print(\"test model :\", model.score(x_test, y_test)) \n",
        "\n",
        "\n",
        "\n",
        "\n",
        "\n",
        "# 모델 테스트\n",
        "y_pred = model.predict(x_test)\n",
        "\n",
        "print(\"accuracy score :\" ,accuracy_score(y_test, y_pred)) \n",
        "print(\"f1 score : \",f1_score(y_test, y_pred))"
      ],
      "execution_count": null,
      "outputs": [
        {
          "output_type": "stream",
          "text": [
            "train model : 0.842761934283943\n",
            "test model : 0.7645995299222563\n",
            "accuracy score : 0.7645995299222563\n",
            "f1 score :  0.8563864990072798\n"
          ],
          "name": "stdout"
        }
      ]
    },
    {
      "cell_type": "code",
      "metadata": {
        "colab": {
          "base_uri": "https://localhost:8080/"
        },
        "id": "9V0_yUjzF1Nc",
        "outputId": "5da74cc4-4b06-4b48-99aa-338fbe8fb687"
      },
      "source": [
        "print(\"randomforest_score\")\n",
        "print(\"accuracy_score : \",accuracy_score(y_test, y_pred))\n",
        "print(\"precision_score: \",precision_score(y_test, y_pred))\n",
        "# print(\"recall_score   : \",recall_score(y_test, y_pred))\n",
        "print(\"f1_score       : \", f1_score(y_test, y_pred))"
      ],
      "execution_count": null,
      "outputs": [
        {
          "output_type": "stream",
          "text": [
            "randomforest_score\n",
            "accuracy_score :  0.7645995299222563\n",
            "precision_score:  0.7736149860502192\n",
            "f1_score       :  0.8563864990072798\n"
          ],
          "name": "stdout"
        }
      ]
    },
    {
      "cell_type": "code",
      "metadata": {
        "id": "7Fe-Ef1-SCOv"
      },
      "source": [
        "import joblib\n",
        "\n",
        "joblib.dump(model, \"classification_randomforest.joblib\")"
      ],
      "execution_count": null,
      "outputs": []
    },
    {
      "cell_type": "code",
      "metadata": {
        "id": "YYVGgllrseUS"
      },
      "source": [
        "# XGboost Classifier\n",
        "\n",
        "from xgboost import XGBClassifier\n",
        "from sklearn.metrics import f1_score, accuracy_score\n",
        "\n",
        "\n",
        "xgb = XGBClassifier(n_estimators=1000, learning_rate=0.005, max_depth=2,objective='reg:squarederror') \n",
        "## tree_method = \"gpu_hist\"\n",
        "\n",
        "x_train=x_train.values\n",
        "y_train=y_train.values\n",
        "x_test=x_test.values\n",
        "y_test=y_test.values\n",
        "\n",
        "\n",
        "# with tf.device('/device:GPU:0'):\n",
        "  # 모델 훈련\n",
        "\n",
        "model=xgb.fit(x_train, y_train) \n",
        "\n",
        "\n",
        "print(\"train model :\" ,model.score(x_train, y_train)) \n",
        "print(\"test model :\", model.score(x_test, y_test)) \n",
        "\n",
        "# 모델 예측\n",
        "y_pred = model.predict(x_test)\n",
        "\n",
        "print(\"accuracy score :\" ,accuracy_score(y_test, y_pred)) \n",
        "print(\"f1 score : \",f1_score(y_test, y_pred))\n",
        "\n",
        "# train model : 0.7567420954742715\n",
        "# test model : 0.7419996384017357\n",
        "# accuracy score : 0.7419996384017357\n",
        "# f1 score :  0.848046001490789"
      ],
      "execution_count": null,
      "outputs": []
    },
    {
      "cell_type": "code",
      "metadata": {
        "colab": {
          "base_uri": "https://localhost:8080/"
        },
        "id": "wDhmu4HStw04",
        "outputId": "885da575-0ad1-4476-dc99-318beb782b5c"
      },
      "source": [
        "print(model.predict_proba(a)[0][1])"
      ],
      "execution_count": null,
      "outputs": [
        {
          "output_type": "stream",
          "text": [
            "0.7889397\n"
          ],
          "name": "stdout"
        }
      ]
    },
    {
      "cell_type": "code",
      "metadata": {
        "id": "eXcDIh3fuDb8"
      },
      "source": [
        "import numpy as np\n",
        "a=([[142320.0 ,\n",
        "0,  #105441.0 \n",
        "1.5812500000029104 ,\n",
        "0.0 ,\n",
        "0.0 ,\n",
        "125000.0 ,\n",
        "2798.41875 ,\n",
        "1.58125000000291 ,\n",
        "4.7 ,\n",
        "0.0 ,\n",
        "1.0 ,\n",
        "0.0 ,\n",
        "0.0 ,\n",
        "0.0 ,\n",
        "0.0 ,\n",
        "1.0 ,\n",
        "0.0 ,\n",
        "0.0 ,\n",
        "0.0 ,\n",
        "0.0 ,\n",
        "0.0 ,\n",
        "0.0 ,\n",
        "0.0 ,\n",
        "0.0 ,\n",
        "1.0 ,\n",
        "1.0 ,\n",
        "0.0 ,\n",
        "1.0 ,\n",
        "0.0 ,\n",
        "0.0 ,\n",
        "1.0 ,\n",
        "0.0 ,\n",
        "0.0 ,\n",
        "0.0 ,\n",
        "0.0 ,\n",
        "0.0 ,\n",
        "0.0 ,\n",
        "0.0 ,\n",
        "0.0 ,\n",
        "0.0 ,\n",
        "1.0 ,\n",
        "0.0 ,\n",
        "0.0 ,\n",
        "0.0 ,\n",
        "0.0 ,0.0 ,\n",
        "0.0 ,\n",
        "1.0 ,\n",
        "0.0 ,\n",
        "0.0 ,\n",
        "0.0 ,\n",
        "0.0 ,\n",
        "0.0 ,\n",
        "0.0 ,\n",
        "0.0 ,\n",
        "1.0 ,0.0 ,\n",
        "0.0 ,\n",
        "0.0 ,\n",
        "0.0 ,\n",
        "0.0 ,\n",
        "0.0 ,\n",
        "0.0  ]])"
      ],
      "execution_count": null,
      "outputs": []
    },
    {
      "cell_type": "code",
      "metadata": {
        "colab": {
          "base_uri": "https://localhost:8080/"
        },
        "id": "gHMAGO7dSlYl",
        "outputId": "d2beafa8-5cac-4971-a540-c4878a248edb"
      },
      "source": [
        "import joblib\n",
        "\n",
        "joblib.dump(model, \"classification_xgboost.joblib\")"
      ],
      "execution_count": null,
      "outputs": [
        {
          "output_type": "execute_result",
          "data": {
            "text/plain": [
              "['classification_xgboost.joblib']"
            ]
          },
          "metadata": {
            "tags": []
          },
          "execution_count": 20
        }
      ]
    },
    {
      "cell_type": "code",
      "metadata": {
        "id": "cJJFiUyCf75o"
      },
      "source": [
        "from sklearn.metrics import confusion_matrix\n",
        "\n",
        "conf_mat = confusion_matrix(labels, predictions)\n",
        "print(conf_mat)"
      ],
      "execution_count": null,
      "outputs": []
    },
    {
      "cell_type": "code",
      "metadata": {
        "id": "bz33QFSLnKJy"
      },
      "source": [
        "import numpy as np\n",
        "a=np.array([[142320.0 ,\n",
        "1.5812500000029104 ,\n",
        "1.0 ,\n",
        "125000.0 ,\n",
        "2798.41875 ,\n",
        "1.58125000000291 ,\n",
        "0.0 ,\n",
        "1.0 ,\n",
        "0.0 ,\n",
        "0.0 ,\n",
        "0.0 ,\n",
        "0.0 ,\n",
        "1.0 ,\n",
        "0.0 ,\n",
        "0.0 ,\n",
        "0.0 ,\n",
        "0.0 ,\n",
        "0.0 ,\n",
        "0.0 ,\n",
        "0.0 ,\n",
        "0.0 ,\n",
        "1.0 ,\n",
        "0.0 ,\n",
        "1.0 ,\n",
        "0.0 ,\n",
        "0.0 ,\n",
        "1.0 ,\n",
        "0.0 ,\n",
        "0.0 ,\n",
        "0.0 ,\n",
        "0.0 ,\n",
        "0.0 ,\n",
        "0.0 ,\n",
        "0.0 ,\n",
        "0.0 ,\n",
        "0.0 ,\n",
        "0.0 ,\n",
        "0.0 ,\n",
        "0.0 ,\n",
        "0.0 ,\n",
        "0.0 ,\n",
        "0.0 ,\n",
        "1.0 ,\n",
        "0.0 ,\n",
        "0.0 ,\n",
        "0.0 ,\n",
        "0.0 ,\n",
        "1.0 ,\n",
        "0.0 ,\n",
        "0.0 ,\n",
        "0.0 ,\n",
        "0.0 ,\n",
        "0.0 ,\n",
        "0.0 ,\n",
        "0.0 ,\n",
        "0.0 ,\n",
        "0.0 ,\n",
        "0.0 ,\n",
        "0.0 ,\n",
        "0.0 ,\n",
        "0.0 ,\n",
        "0.0 ,\n",
        "0.0 ,\n",
        "0.0 ,\n",
        "0.0 ,\n",
        "0.0 ,\n",
        "1.0 ,\n",
        "0.0 ,\n",
        "0.0 ,\n",
        "0.0 ,\n",
        "0.0 ,\n",
        "0.0 ,\n",
        "0.0 ,\n",
        "0.0 ,\n",
        "0.0 ,\n",
        "0.0 ,\n",
        "0.0 ,\n",
        "0.0 ,\n",
        "0.0 ,\n",
        "0.0 ,\n",
        "0.0 ,\n",
        "1.0 ,\n",
        "0.0 ,\n",
        "0.0 ,\n",
        "0.0 ,\n",
        "0.0 ,\n",
        "0.0 ,\n",
        "1.0 ,\n",
        "0.0 ,\n",
        "0.0 ,\n",
        "0.0 ,\n",
        "1.0 ,\n",
        "0.0 ,\n",
        "0.0 ,\n",
        "0.0 ,\n",
        "1.0 ,\n",
        "0.0 ,\n",
        "0.0 ,\n",
        "1.0 ,\n",
        "0.0 ,\n",
        "0.0 ,\n",
        "0.0   ]])"
      ],
      "execution_count": null,
      "outputs": []
    },
    {
      "cell_type": "code",
      "metadata": {
        "colab": {
          "base_uri": "https://localhost:8080/"
        },
        "id": "1fstsBOdnP5C",
        "outputId": "3f489f2e-dd95-47ea-d6d1-69e9459434b2"
      },
      "source": [
        "print(model.predict_proba([a]))"
      ],
      "execution_count": null,
      "outputs": [
        {
          "output_type": "stream",
          "text": [
            "[[0.26671137 0.73328863]]\n"
          ],
          "name": "stdout"
        }
      ]
    },
    {
      "cell_type": "code",
      "metadata": {
        "id": "oaN2G8sRSsCR",
        "colab": {
          "base_uri": "https://localhost:8080/",
          "height": 1000
        },
        "outputId": "18a95091-6351-43a0-e80e-4c57edfe48b6"
      },
      "source": [
        "import seaborn as sns\n",
        "import numpy as np\n",
        "import matplotlib.pyplot as plt\n",
        "\n",
        "def plot_feature_importance(importance,names,model_type):\n",
        "\n",
        "  #Create arrays from feature importance and feature names\n",
        "  feature_importance = np.array(importance)\n",
        "  feature_names = np.array(names)\n",
        "\n",
        "  #Create a DataFrame using a Dictionary\n",
        "  data={'feature_names':feature_names,'feature_importance':feature_importance}\n",
        "  fi_df = pd.DataFrame(data)\n",
        "\n",
        "  #Sort the DataFrame in order decreasing feature importance\n",
        "  fi_df.sort_values(by=['feature_importance'], ascending=False,inplace=True)\n",
        "\n",
        "  #Define size of bar plot\n",
        "  plt.figure(figsize=(10,100))\n",
        "  #Plot Searborn bar chart\n",
        "  sns.barplot(x=fi_df['feature_importance'], y=fi_df['feature_names'])\n",
        "  #Add chart labels\n",
        "  plt.title(model_type + ' FEATURE IMPORTANCE')\n",
        "  plt.xlabel('FEATURE IMPORTANCE')\n",
        "  plt.ylabel('FEATURE NAMES')\n",
        "\n",
        "plot_feature_importance(model.feature_importances_,x_train.columns,'RANDOM FOREST')"
      ],
      "execution_count": null,
      "outputs": [
        {
          "output_type": "stream",
          "text": [
            "/usr/local/lib/python3.7/dist-packages/matplotlib/backends/backend_agg.py:214: RuntimeWarning: Glyph 48372 missing from current font.\n",
            "  font.set_text(s, 0.0, flags=flags)\n",
            "/usr/local/lib/python3.7/dist-packages/matplotlib/backends/backend_agg.py:214: RuntimeWarning: Glyph 53685 missing from current font.\n",
            "  font.set_text(s, 0.0, flags=flags)\n",
            "/usr/local/lib/python3.7/dist-packages/matplotlib/backends/backend_agg.py:214: RuntimeWarning: Glyph 55120 missing from current font.\n",
            "  font.set_text(s, 0.0, flags=flags)\n",
            "/usr/local/lib/python3.7/dist-packages/matplotlib/backends/backend_agg.py:214: RuntimeWarning: Glyph 47548 missing from current font.\n",
            "  font.set_text(s, 0.0, flags=flags)\n",
            "/usr/local/lib/python3.7/dist-packages/matplotlib/backends/backend_agg.py:214: RuntimeWarning: Glyph 47569 missing from current font.\n",
            "  font.set_text(s, 0.0, flags=flags)\n",
            "/usr/local/lib/python3.7/dist-packages/matplotlib/backends/backend_agg.py:214: RuntimeWarning: Glyph 51020 missing from current font.\n",
            "  font.set_text(s, 0.0, flags=flags)\n",
            "/usr/local/lib/python3.7/dist-packages/matplotlib/backends/backend_agg.py:214: RuntimeWarning: Glyph 45208 missing from current font.\n",
            "  font.set_text(s, 0.0, flags=flags)\n",
            "/usr/local/lib/python3.7/dist-packages/matplotlib/backends/backend_agg.py:214: RuntimeWarning: Glyph 49256 missing from current font.\n",
            "  font.set_text(s, 0.0, flags=flags)\n",
            "/usr/local/lib/python3.7/dist-packages/matplotlib/backends/backend_agg.py:214: RuntimeWarning: Glyph 51339 missing from current font.\n",
            "  font.set_text(s, 0.0, flags=flags)\n",
            "/usr/local/lib/python3.7/dist-packages/matplotlib/backends/backend_agg.py:214: RuntimeWarning: Glyph 48708 missing from current font.\n",
            "  font.set_text(s, 0.0, flags=flags)\n",
            "/usr/local/lib/python3.7/dist-packages/matplotlib/backends/backend_agg.py:214: RuntimeWarning: Glyph 45576 missing from current font.\n",
            "  font.set_text(s, 0.0, flags=flags)\n",
            "/usr/local/lib/python3.7/dist-packages/matplotlib/backends/backend_agg.py:214: RuntimeWarning: Glyph 47588 missing from current font.\n",
            "  font.set_text(s, 0.0, flags=flags)\n",
            "/usr/local/lib/python3.7/dist-packages/matplotlib/backends/backend_agg.py:214: RuntimeWarning: Glyph 50864 missing from current font.\n",
            "  font.set_text(s, 0.0, flags=flags)\n",
            "/usr/local/lib/python3.7/dist-packages/matplotlib/backends/backend_agg.py:183: RuntimeWarning: Glyph 48372 missing from current font.\n",
            "  font.set_text(s, 0, flags=flags)\n",
            "/usr/local/lib/python3.7/dist-packages/matplotlib/backends/backend_agg.py:183: RuntimeWarning: Glyph 53685 missing from current font.\n",
            "  font.set_text(s, 0, flags=flags)\n",
            "/usr/local/lib/python3.7/dist-packages/matplotlib/backends/backend_agg.py:183: RuntimeWarning: Glyph 55120 missing from current font.\n",
            "  font.set_text(s, 0, flags=flags)\n",
            "/usr/local/lib/python3.7/dist-packages/matplotlib/backends/backend_agg.py:183: RuntimeWarning: Glyph 47548 missing from current font.\n",
            "  font.set_text(s, 0, flags=flags)\n",
            "/usr/local/lib/python3.7/dist-packages/matplotlib/backends/backend_agg.py:183: RuntimeWarning: Glyph 47569 missing from current font.\n",
            "  font.set_text(s, 0, flags=flags)\n",
            "/usr/local/lib/python3.7/dist-packages/matplotlib/backends/backend_agg.py:183: RuntimeWarning: Glyph 51020 missing from current font.\n",
            "  font.set_text(s, 0, flags=flags)\n",
            "/usr/local/lib/python3.7/dist-packages/matplotlib/backends/backend_agg.py:183: RuntimeWarning: Glyph 45208 missing from current font.\n",
            "  font.set_text(s, 0, flags=flags)\n",
            "/usr/local/lib/python3.7/dist-packages/matplotlib/backends/backend_agg.py:183: RuntimeWarning: Glyph 49256 missing from current font.\n",
            "  font.set_text(s, 0, flags=flags)\n",
            "/usr/local/lib/python3.7/dist-packages/matplotlib/backends/backend_agg.py:183: RuntimeWarning: Glyph 51339 missing from current font.\n",
            "  font.set_text(s, 0, flags=flags)\n",
            "/usr/local/lib/python3.7/dist-packages/matplotlib/backends/backend_agg.py:183: RuntimeWarning: Glyph 48708 missing from current font.\n",
            "  font.set_text(s, 0, flags=flags)\n",
            "/usr/local/lib/python3.7/dist-packages/matplotlib/backends/backend_agg.py:183: RuntimeWarning: Glyph 45576 missing from current font.\n",
            "  font.set_text(s, 0, flags=flags)\n",
            "/usr/local/lib/python3.7/dist-packages/matplotlib/backends/backend_agg.py:183: RuntimeWarning: Glyph 47588 missing from current font.\n",
            "  font.set_text(s, 0, flags=flags)\n",
            "/usr/local/lib/python3.7/dist-packages/matplotlib/backends/backend_agg.py:183: RuntimeWarning: Glyph 50864 missing from current font.\n",
            "  font.set_text(s, 0, flags=flags)\n"
          ],
          "name": "stderr"
        },
        {
          "output_type": "display_data",
          "data": {
            "image/png": "[encoded data removed]",
            "text/plain": [
              "<Figure size 720x7200 with 1 Axes>"
            ]
          },
          "metadata": {
            "tags": [],
            "needs_background": "light"
          }
        }
      ]
    }
  ]
}